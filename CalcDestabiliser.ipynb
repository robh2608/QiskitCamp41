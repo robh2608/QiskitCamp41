{
 "cells": [
  {
   "cell_type": "code",
   "execution_count": 22,
   "metadata": {},
   "outputs": [],
   "source": [
    "import numpy as np\n",
    "from sympy import *\n",
    "import itertools"
   ]
  },
  {
   "cell_type": "code",
   "execution_count": 8,
   "metadata": {},
   "outputs": [],
   "source": [
    "stabs=np.loadtxt('../PauliOptimiserMatlab/PentagonHexagonInput/StabilisersR=1.dat','\\t')\n",
    "ISF=np.transpose(np.loadtxt('../PauliOptimiserMatlab/PentagonHexagonInput/ISFR=1.dat','\\t'))"
   ]
  },
  {
   "cell_type": "code",
   "execution_count": 9,
   "metadata": {},
   "outputs": [
    {
     "data": {
      "text/plain": [
       "array([[1, 0, 1, 0, 0, 0, 0, 0, 1, 1],\n",
       "       [0, 1, 0, 1, 0, 1, 0, 0, 0, 1],\n",
       "       [0, 0, 1, 0, 1, 1, 1, 0, 0, 0],\n",
       "       [1, 0, 0, 1, 0, 0, 1, 1, 0, 0]], dtype=int64)"
      ]
     },
     "execution_count": 9,
     "metadata": {},
     "output_type": "execute_result"
    }
   ],
   "source": [
    "stabs"
   ]
  },
  {
   "cell_type": "code",
   "execution_count": 69,
   "metadata": {},
   "outputs": [
    {
     "ename": "AttributeError",
     "evalue": "'list' object has no attribute 'tolist'",
     "output_type": "error",
     "traceback": [
      "\u001b[0;31m---------------------------------------------------------------------------\u001b[0m",
      "\u001b[0;31mAttributeError\u001b[0m                            Traceback (most recent call last)",
      "\u001b[0;32m<ipython-input-69-87609a163c09>\u001b[0m in \u001b[0;36m<module>\u001b[0;34m\u001b[0m\n\u001b[1;32m      2\u001b[0m \u001b[0mcomb\u001b[0m\u001b[0;34m=\u001b[0m\u001b[0;34m[\u001b[0m\u001b[0;34m]\u001b[0m\u001b[0;34m\u001b[0m\u001b[0;34m\u001b[0m\u001b[0m\n\u001b[1;32m      3\u001b[0m \u001b[0;32mfor\u001b[0m \u001b[0ma\u001b[0m \u001b[0;32min\u001b[0m \u001b[0mrange\u001b[0m\u001b[0;34m(\u001b[0m\u001b[0;36m1\u001b[0m\u001b[0;34m,\u001b[0m\u001b[0mlen\u001b[0m\u001b[0;34m(\u001b[0m\u001b[0msupport\u001b[0m\u001b[0;34m)\u001b[0m\u001b[0;34m,\u001b[0m\u001b[0;36m2\u001b[0m\u001b[0;34m)\u001b[0m\u001b[0;34m:\u001b[0m\u001b[0;34m\u001b[0m\u001b[0;34m\u001b[0m\u001b[0m\n\u001b[0;32m----> 4\u001b[0;31m     \u001b[0mcomb\u001b[0m\u001b[0;34m=\u001b[0m\u001b[0mlist\u001b[0m\u001b[0;34m(\u001b[0m\u001b[0mitertools\u001b[0m\u001b[0;34m.\u001b[0m\u001b[0mcombinations\u001b[0m\u001b[0;34m(\u001b[0m\u001b[0msupport\u001b[0m\u001b[0;34m.\u001b[0m\u001b[0mtolist\u001b[0m\u001b[0;34m(\u001b[0m\u001b[0;34m)\u001b[0m\u001b[0;34m,\u001b[0m\u001b[0ma\u001b[0m\u001b[0;34m)\u001b[0m\u001b[0;34m)\u001b[0m\u001b[0;34m\u001b[0m\u001b[0;34m\u001b[0m\u001b[0m\n\u001b[0m\u001b[1;32m      5\u001b[0m     \u001b[0mcomb\u001b[0m\u001b[0;34m.\u001b[0m\u001b[0mappend\u001b[0m\u001b[0;34m(\u001b[0m\u001b[0;34m)\u001b[0m\u001b[0;34m\u001b[0m\u001b[0;34m\u001b[0m\u001b[0m\n",
      "\u001b[0;31mAttributeError\u001b[0m: 'list' object has no attribute 'tolist'"
     ]
    }
   ],
   "source": [
    "support=[np.nonzero(stabs[i])[0] for i in range(4)]\n",
    "for s in range(len(support)):\n",
    "    for a in range(1,len(support[s]),2):\n",
    "        comb=list(itertools.combinations(support.tolist(),a))\n",
    "        comb.append()"
   ]
  },
  {
   "cell_type": "code",
   "execution_count": 73,
   "metadata": {},
   "outputs": [],
   "source": [
    "comb=list(itertools.combinations(support[0].tolist(),a))"
   ]
  },
  {
   "cell_type": "code",
   "execution_count": 68,
   "metadata": {},
   "outputs": [
    {
     "data": {
      "text/plain": [
       "[0, 1, 2, 3, 4, 5, 6, 7, 8, 9]"
      ]
     },
     "execution_count": 68,
     "metadata": {},
     "output_type": "execute_result"
    }
   ],
   "source": [
    "[i for i in range(10)]"
   ]
  },
  {
   "cell_type": "code",
   "execution_count": 82,
   "metadata": {},
   "outputs": [
    {
     "data": {
      "text/plain": [
       "array([[1., 0., 1., 0., 0., 0., 0., 0., 1., 1.],\n",
       "       [0., 1., 0., 1., 0., 1., 0., 0., 0., 1.],\n",
       "       [0., 0., 1., 0., 1., 1., 1., 0., 0., 0.],\n",
       "       [1., 0., 0., 1., 0., 0., 1., 1., 0., 0.]])"
      ]
     },
     "execution_count": 82,
     "metadata": {},
     "output_type": "execute_result"
    }
   ],
   "source": [
    "np.matmul(np.identity(4),np.transpose(stabs)) % 2"
   ]
  },
  {
   "cell_type": "code",
   "execution_count": 56,
   "metadata": {},
   "outputs": [],
   "source": [
    "X = MatrixSymbol('X', 4, 10)"
   ]
  },
  {
   "cell_type": "code",
   "execution_count": 66,
   "metadata": {},
   "outputs": [],
   "source": [
    "Matrix(X)\n",
    "stabs2=Matrix(stabs)"
   ]
  },
  {
   "cell_type": "code",
   "execution_count": 68,
   "metadata": {},
   "outputs": [],
   "source": [
    "out=MatMul(X,stabs2)"
   ]
  },
  {
   "cell_type": "code",
   "execution_count": 78,
   "metadata": {},
   "outputs": [
    {
     "data": {
      "text/latex": [
       "$\\displaystyle \\left[\\begin{matrix}X_{0, 0} + X_{0, 2} + X_{0, 8} + X_{0, 9} & X_{0, 1} + X_{0, 3} + X_{0, 5} + X_{0, 9} & X_{0, 2} + X_{0, 4} + X_{0, 5} + X_{0, 6} & X_{0, 0} + X_{0, 3} + X_{0, 6} + X_{0, 7}\\\\X_{1, 0} + X_{1, 2} + X_{1, 8} + X_{1, 9} & X_{1, 1} + X_{1, 3} + X_{1, 5} + X_{1, 9} & X_{1, 2} + X_{1, 4} + X_{1, 5} + X_{1, 6} & X_{1, 0} + X_{1, 3} + X_{1, 6} + X_{1, 7}\\\\X_{2, 0} + X_{2, 2} + X_{2, 8} + X_{2, 9} & X_{2, 1} + X_{2, 3} + X_{2, 5} + X_{2, 9} & X_{2, 2} + X_{2, 4} + X_{2, 5} + X_{2, 6} & X_{2, 0} + X_{2, 3} + X_{2, 6} + X_{2, 7}\\\\X_{3, 0} + X_{3, 2} + X_{3, 8} + X_{3, 9} & X_{3, 1} + X_{3, 3} + X_{3, 5} + X_{3, 9} & X_{3, 2} + X_{3, 4} + X_{3, 5} + X_{3, 6} & X_{3, 0} + X_{3, 3} + X_{3, 6} + X_{3, 7}\\end{matrix}\\right]$"
      ],
      "text/plain": [
       "Matrix([\n",
       "[X[0, 0] + X[0, 2] + X[0, 8] + X[0, 9], X[0, 1] + X[0, 3] + X[0, 5] + X[0, 9], X[0, 2] + X[0, 4] + X[0, 5] + X[0, 6], X[0, 0] + X[0, 3] + X[0, 6] + X[0, 7]],\n",
       "[X[1, 0] + X[1, 2] + X[1, 8] + X[1, 9], X[1, 1] + X[1, 3] + X[1, 5] + X[1, 9], X[1, 2] + X[1, 4] + X[1, 5] + X[1, 6], X[1, 0] + X[1, 3] + X[1, 6] + X[1, 7]],\n",
       "[X[2, 0] + X[2, 2] + X[2, 8] + X[2, 9], X[2, 1] + X[2, 3] + X[2, 5] + X[2, 9], X[2, 2] + X[2, 4] + X[2, 5] + X[2, 6], X[2, 0] + X[2, 3] + X[2, 6] + X[2, 7]],\n",
       "[X[3, 0] + X[3, 2] + X[3, 8] + X[3, 9], X[3, 1] + X[3, 3] + X[3, 5] + X[3, 9], X[3, 2] + X[3, 4] + X[3, 5] + X[3, 6], X[3, 0] + X[3, 3] + X[3, 6] + X[3, 7]]])"
      ]
     },
     "execution_count": 78,
     "metadata": {},
     "output_type": "execute_result"
    }
   ],
   "source": [
    "Matrix(out)"
   ]
  },
  {
   "cell_type": "code",
   "execution_count": 48,
   "metadata": {},
   "outputs": [],
   "source": [
    "nqubit=5\n",
    "stabstr=[]\n",
    "for i in range(5):\n",
    "    qi=[stabs[i,1],stabs[i+5,1]]\n",
    "    if qi==[0,0]:\n",
    "        stabstr.append(\"I\")\n",
    "    elif qi==[1,0]:\n",
    "        stabstr.append(\"X\")\n",
    "    elif qi==[0,1]:\n",
    "        stabstr.append(\"Z\")\n",
    "    "
   ]
  },
  {
   "cell_type": "code",
   "execution_count": 39,
   "metadata": {},
   "outputs": [
    {
     "data": {
      "text/plain": [
       "[1, 0]"
      ]
     },
     "execution_count": 39,
     "metadata": {},
     "output_type": "execute_result"
    }
   ],
   "source": [
    "[stabs[1,1],stabs[6,1]]"
   ]
  },
  {
   "cell_type": "code",
   "execution_count": 49,
   "metadata": {},
   "outputs": [
    {
     "data": {
      "text/plain": [
       "['Z', 'X', 'I', 'X', 'Z']"
      ]
     },
     "execution_count": 49,
     "metadata": {},
     "output_type": "execute_result"
    }
   ],
   "source": [
    "stabstr"
   ]
  },
  {
   "cell_type": "code",
   "execution_count": null,
   "metadata": {},
   "outputs": [],
   "source": []
  }
 ],
 "metadata": {
  "kernelspec": {
   "display_name": "Python 3",
   "language": "python",
   "name": "python3"
  },
  "language_info": {
   "codemirror_mode": {
    "name": "ipython",
    "version": 3
   },
   "file_extension": ".py",
   "mimetype": "text/x-python",
   "name": "python",
   "nbconvert_exporter": "python",
   "pygments_lexer": "ipython3",
   "version": "3.7.5"
  }
 },
 "nbformat": 4,
 "nbformat_minor": 2
}
