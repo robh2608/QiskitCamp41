{
 "cells": [
  {
   "cell_type": "markdown",
   "metadata": {},
   "source": [
    "# Improved Simulation of Stabilizer Codes"
   ]
  },
  {
   "cell_type": "code",
   "execution_count": 1,
   "metadata": {},
   "outputs": [],
   "source": [
    "from qiskit import *\n",
    "import numpy as np\n",
    "from qiskit.providers.aer.extensions import *"
   ]
  },
  {
   "cell_type": "markdown",
   "metadata": {},
   "source": [
    "# The problem"
   ]
  },
  {
   "cell_type": "markdown",
   "metadata": {},
   "source": [
    "$\\left(\\begin{matrix}\n",
    "\\hat{Z} & \\mathbb{I} & \\mathbb{I} & \\mathbb{I} & \\mathbb{I} & \\mathbb{I} & \\mathbb{I} \\\\\n",
    "\\mathbb{I} & \\hat{Z} & \\mathbb{I} & \\mathbb{I} & \\mathbb{I} & \\mathbb{I} & \\mathbb{I} \\\\\n",
    "\\mathbb{I} & \\mathbb{I} & \\hat{Z} & \\mathbb{I} & \\mathbb{I} & \\mathbb{I} & \\mathbb{I} \\\\\n",
    "\\mathbb{I} & \\mathbb{I} & \\mathbb{I} & \\hat{Z} & \\mathbb{I} & \\mathbb{I} & \\mathbb{I} \\\\\n",
    "\\mathbb{I} & \\mathbb{I} & \\mathbb{I} & \\mathbb{I} & \\hat{Z} & \\mathbb{I} & \\mathbb{I} \\\\\n",
    "\\mathbb{I} & \\mathbb{I} & \\mathbb{I} & \\mathbb{I} & \\mathbb{I} & \\hat{Z} & \\mathbb{I} \\\\\n",
    "\\mathbb{I} & \\mathbb{I} & \\mathbb{I} & \\mathbb{I} & \\mathbb{I} & \\mathbb{I} & \\hat{Z} \n",
    "\\end{matrix}\\right) \\Longrightarrow\n",
    "\\left(\\begin{matrix}\n",
    "\\hat{X} & \\hat{X} & \\hat{X} & \\hat{X} & \\mathbb{I} & \\mathbb{I} & \\mathbb{I} \\\\\n",
    "\\mathbb{I} & \\hat{X} & \\hat{X} & \\mathbb{I} &  \\hat{X} & \\hat{X} & \\mathbb{I} \\\\\n",
    "\\mathbb{I}& \\mathbb{I} & \\hat{X} & \\hat{X} & \\mathbb{I} & \\hat{X} & \\hat{X} \\\\\n",
    "\\hat{Z} & \\hat{Z} & \\hat{Z} & \\hat{Z} & \\mathbb{I} & \\mathbb{I} & \\mathbb{I} \\\\\n",
    "\\mathbb{I} & \\hat{Z} & \\hat{Z} & \\mathbb{I} &  \\hat{Z} & \\hat{Z} & \\mathbb{I} \\\\\n",
    "\\mathbb{I}& \\mathbb{I} & \\hat{Z} & \\hat{Z} & \\mathbb{I} & \\hat{Z} & \\hat{Z} \\\\\n",
    "\\hat{X} &\\hat{X} &\\hat{X} &\\hat{X} &\\hat{X} &\\hat{X} &\\hat{X}\n",
    "\\end{matrix} \\right)\n",
    "$"
   ]
  },
  {
   "cell_type": "markdown",
   "metadata": {},
   "source": [
    "# Our Solution\n",
    "\n",
    "## Adding the option of specifying an initial stabilizer state."
   ]
  },
  {
   "cell_type": "code",
   "execution_count": 73,
   "metadata": {},
   "outputs": [],
   "source": [
    "class Initialize_Stabilizer(Instruction):\n",
    "    def __init__(self, stabs):\n",
    "        num_qubits = int (stabs.shape[1]/2)\n",
    "        \n",
    "        #stabs.append(destabs) \n",
    "        stab_string=[]\n",
    "        for i in range(stabs.shape[0]):\n",
    "            temp=''\n",
    "            #convert to string\n",
    "            for j in range(0,num_qubits): \n",
    "                qi=[stabs[i,j],stabs[i,j+num_qubits]]\n",
    "                if qi==[0,0]:\n",
    "                    temp=temp+'I'\n",
    "                elif qi==[0,1]:\n",
    "                    temp= temp+'Z'\n",
    "                elif qi==[1,0]:\n",
    "                    temp=temp+'X'\n",
    "                else:\n",
    "                    temp=temp+'Y'\n",
    "    \n",
    "            stab_string.append(temp)#+'IIIIII')\n",
    "        \n",
    "        \n",
    "        \n",
    "        param = np.array(stab_string)    # np.array is a hack to make non-float params work\n",
    "        super().__init__(\"initialize_stabilizer\", num_qubits, 0, [param])"
   ]
  },
  {
   "cell_type": "markdown",
   "metadata": {},
   "source": [
    "# Steane Code Example"
   ]
  },
  {
   "cell_type": "markdown",
   "metadata": {},
   "source": [
    "![title](Capture.PNG)"
   ]
  },
  {
   "cell_type": "code",
   "execution_count": 72,
   "metadata": {},
   "outputs": [],
   "source": [
    "stabilizers=np.array([[1, 1, 1, 1, 0, 0, 0, 0, 0, 0, 0, 0, 0, 0],\n",
    "                     [0, 0, 0, 0, 0, 0, 0, 1, 1, 1, 1, 0, 0, 0],\n",
    "                     [0, 1, 1, 0, 1, 1, 0, 0, 0, 0, 0, 0, 0, 0],\n",
    "                     [0, 0, 0, 0, 0, 0, 0, 0, 1, 1, 0, 1, 1, 0], \n",
    "                     [0, 0, 1, 1, 0, 1, 1, 0, 0, 0, 0, 0, 0, 0],\n",
    "                     [0, 0, 0, 0, 0, 0, 0, 0, 0, 1, 1, 0, 1, 1],\n",
    "                     [1, 1, 1, 1, 1, 1, 1, 0, 0, 0, 0, 0, 0, 0]])\n",
    "destabilizers=np.array([[0, 0, 0, 0, 0, 0, 0, 1, 0, 0, 0, 0, 0, 0],\n",
    "                     [1, 0, 0, 0, 0, 0, 0, 0, 0, 0, 0, 0, 0, 0],\n",
    "                     [0, 0, 0, 0, 0, 0, 0, 0, 0, 0, 0, 1, 0, 0],\n",
    "                     [0, 0, 0, 0, 1, 0, 0, 0, 0, 0, 0, 0, 0, 0], \n",
    "                     [0, 0, 0, 0, 0, 0, 0, 0, 0, 0, 0, 0, 0, 1],\n",
    "                     [0, 0, 0, 0, 0, 0, 1, 0, 0, 0, 0, 0, 0, 0],\n",
    "                     [0, 0, 0, 0, 0, 0, 0, 1, 1, 1, 1, 1, 1, 1]])\n",
    "stabs_combined=np.concatenate((stabilizers,destabilizers), axis=0)"
   ]
  },
  {
   "cell_type": "markdown",
   "metadata": {},
   "source": [
    "# No Error"
   ]
  },
  {
   "cell_type": "code",
   "execution_count": 167,
   "metadata": {},
   "outputs": [
    {
     "name": "stdout",
     "output_type": "stream",
     "text": [
      "Red Z plaquette: 0\n",
      "Blue Z plaquette: 0\n",
      "Green Z plaquette: 0\n"
     ]
    }
   ],
   "source": [
    "qubits=QuantumRegister(7)\n",
    "syndrome=ClassicalRegister(7)\n",
    "\n",
    "circ = QuantumCircuit(qubits, syndrome)\n",
    "\n",
    "\n",
    "instr=Initialize_Stabilizer(stabs_combined)\n",
    "circ.snapshot_stabilizer('pre_init')\n",
    "circ.append(instr, qubits)\n",
    "circ.snapshot_stabilizer('post_init')\n",
    "\n",
    "\n",
    "#apply an X error on qubit 1, expect Z stabiliser 1 to give 1\n",
    "#circ.x(qubits[2])\n",
    "\n",
    "#measure\n",
    "for i in range(7):\n",
    "    circ.measure(qubits[i],syndrome[i])\n",
    "    \n",
    "\n",
    "\n",
    "#run job\n",
    "opts = {\"method\": \"stabilizer\"}\n",
    "sim = Aer.get_backend(\"qasm_simulator\")\n",
    "job = execute(circ, sim, shots=1,basis_gates=['initialize_stabilizer','cx','h','x','z'], backend_options=opts)\n",
    "results = job.result()\n",
    "#results.get_counts(0)\n",
    "\n",
    "counts=results.get_counts(0)\n",
    "state=[]\n",
    "for i in range(len(counts)):\n",
    "    state.append(list(counts.popitem()))\n",
    "    \n",
    "stab1=[]\n",
    "stab2=[]\n",
    "stab3=[]\n",
    "for j in range(len(state)):\n",
    "    state_list=[int(i) for i in state[j][0]]\n",
    "    #state_list=state_list[::-1]\n",
    "    stab1.append(sum([state_list[i] for i in [0,1,2,3]]) % 2)\n",
    "    stab2.append(sum([state_list[i] for i in [1,2,4,5]]) % 2)\n",
    "    stab3.append(sum([state_list[i] for i in [2,3,5,6]]) % 2)\n",
    "\n",
    "print(\"Red Z plaquette:\",stab1[0])\n",
    "print(\"Blue Z plaquette:\",stab2[0])\n",
    "print(\"Green Z plaquette:\",stab3[0])"
   ]
  },
  {
   "cell_type": "markdown",
   "metadata": {},
   "source": [
    "# X Error on Qubit 1"
   ]
  },
  {
   "cell_type": "code",
   "execution_count": 168,
   "metadata": {},
   "outputs": [
    {
     "name": "stdout",
     "output_type": "stream",
     "text": [
      "Red Z plaquette: 1\n",
      "Blue Z plaquette: 0\n",
      "Green Z plaquette: 0\n"
     ]
    }
   ],
   "source": [
    "qubits=QuantumRegister(7)\n",
    "syndrome=ClassicalRegister(7)\n",
    "\n",
    "circ = QuantumCircuit(qubits, syndrome)\n",
    "\n",
    "\n",
    "instr=Initialize_Stabilizer(stabs_combined)\n",
    "circ.snapshot_stabilizer('pre_init')\n",
    "circ.append(instr, qubits)\n",
    "circ.snapshot_stabilizer('post_init')\n",
    "\n",
    "\n",
    "#apply an X error on qubit 1, expect Z stabiliser 1 to give 1\n",
    "circ.x(qubits[6])\n",
    "\n",
    "#measure\n",
    "for i in range(7):\n",
    "    circ.measure(qubits[i],syndrome[i])\n",
    "    \n",
    "\n",
    "\n",
    "#run job\n",
    "opts = {\"method\": \"stabilizer\"}\n",
    "sim = Aer.get_backend(\"qasm_simulator\")\n",
    "job = execute(circ, sim, shots=1,basis_gates=['initialize_stabilizer','cx','h','x','z'], backend_options=opts)\n",
    "results = job.result()\n",
    "#results.get_counts(0)\n",
    "\n",
    "counts=results.get_counts(0)\n",
    "state=[]\n",
    "for i in range(len(counts)):\n",
    "    state.append(list(counts.popitem()))\n",
    "    \n",
    "stab1=[]\n",
    "stab2=[]\n",
    "stab3=[]\n",
    "for j in range(len(state)):\n",
    "    state_list=[int(i) for i in state[j][0]]\n",
    "    #state_list=state_list[::-1]\n",
    "    stab1.append(sum([state_list[i] for i in [0,1,2,3]]) % 2)\n",
    "    stab2.append(sum([state_list[i] for i in [1,2,4,5]]) % 2)\n",
    "    stab3.append(sum([state_list[i] for i in [2,3,5,6]]) % 2)\n",
    "\n",
    "print(\"Red Z plaquette:\",stab1[0])\n",
    "print(\"Blue Z plaquette:\",stab2[0])\n",
    "print(\"Green Z plaquette:\",stab3[0])"
   ]
  },
  {
   "cell_type": "code",
   "execution_count": null,
   "metadata": {},
   "outputs": [],
   "source": [
    "\n",
    "\n",
    "\n",
    "\n",
    "\n",
    "\n",
    "\n",
    "\n",
    "\n",
    "\n",
    "\n",
    "\n",
    "\n",
    "\n",
    "\n",
    "\n",
    "\n",
    "\n",
    "\n",
    "\n",
    "\n",
    "\n",
    "\n",
    "\n",
    "\n",
    "\n",
    "\n",
    "\n",
    "\n",
    "\n",
    "\n",
    "\n",
    "\n",
    "\n",
    "\n",
    "\n",
    "\n"
   ]
  },
  {
   "cell_type": "code",
   "execution_count": 77,
   "metadata": {},
   "outputs": [
    {
     "data": {
      "text/plain": [
       "{'post_init': [['XXXXIII',\n",
       "   'ZZZZIII',\n",
       "   'IXXIXXI',\n",
       "   'IZZIZZI',\n",
       "   'IIXXIXX',\n",
       "   'IIZZIZZ',\n",
       "   'XXXXXXX']],\n",
       " 'pre_init': [['IIIIIIZ',\n",
       "   'IIIIIZI',\n",
       "   'IIIIZII',\n",
       "   'IIIZIII',\n",
       "   'IIZIIII',\n",
       "   'IZIIIII',\n",
       "   'ZIIIIII']]}"
      ]
     },
     "execution_count": 77,
     "metadata": {},
     "output_type": "execute_result"
    }
   ],
   "source": [
    "results.data(0)['snapshots']['stabilizer']"
   ]
  },
  {
   "cell_type": "code",
   "execution_count": 5,
   "metadata": {},
   "outputs": [
    {
     "data": {
      "text/plain": [
       "{'status': 'COMPLETED',\n",
       " 'job_id': '352a9394-7ea8-4395-980a-06d11709fda3',\n",
       " 'results': [{'status': 'DONE',\n",
       "   'shots': 1024,\n",
       "   'data': {},\n",
       "   'success': True,\n",
       "   'meas_level': 2,\n",
       "   'header': {'qreg_sizes': [['q', 2]],\n",
       "    'clbit_labels': [],\n",
       "    'memory_slots': 0,\n",
       "    'qubit_labels': [['q', 0], ['q', 1]],\n",
       "    'name': 'circuit0',\n",
       "    'n_qubits': 2,\n",
       "    'creg_sizes': []},\n",
       "   'metadata': {'measure_sampling': True,\n",
       "    'method': 'stabilizer',\n",
       "    'parallel_shots': 1,\n",
       "    'parallel_state_update': 1},\n",
       "   'seed_simulator': 90643069,\n",
       "   'time_taken': 0.000410275}],\n",
       " 'header': {'backend_name': 'qasm_simulator', 'backend_version': '0.4.0'},\n",
       " 'success': True,\n",
       " 'backend_name': 'qasm_simulator',\n",
       " 'date': '2019-11-20T10:17:11.293121',\n",
       " 'qobj_id': 'e8489968-0093-4b5d-9165-a6d680d57ebc',\n",
       " 'backend_version': '0.4.0',\n",
       " 'metadata': {'max_memory_mb': 5927,\n",
       "  'omp_enabled': True,\n",
       "  'parallel_experiments': 1,\n",
       "  'time_taken': 0.002061195},\n",
       " 'time_taken': 0.027180194854736328}"
      ]
     },
     "execution_count": 5,
     "metadata": {},
     "output_type": "execute_result"
    }
   ],
   "source": [
    "job.result().to_dict()"
   ]
  },
  {
   "cell_type": "code",
   "execution_count": 6,
   "metadata": {},
   "outputs": [
    {
     "data": {
      "text/plain": [
       "[QasmQobjInstruction(name='initialize_stabilizer', params=[array(['XI', 'IX', 'ZI', 'IZ'], dtype='<U2')], qubits=[0, 1])]"
      ]
     },
     "execution_count": 6,
     "metadata": {},
     "output_type": "execute_result"
    }
   ],
   "source": [
    "assemble(qc).experiments[0].instructions"
   ]
  },
  {
   "cell_type": "code",
   "execution_count": null,
   "metadata": {},
   "outputs": [],
   "source": [
    "#std::vector<std::vector<std::string>> tmp = js[\"params\"]\n",
    "#op.string_params = tmp[0]"
   ]
  }
 ],
 "metadata": {
  "kernelspec": {
   "display_name": "Python (qiskit-dev)",
   "language": "python",
   "name": "qiskitdevelopmental"
  },
  "language_info": {
   "codemirror_mode": {
    "name": "ipython",
    "version": 3
   },
   "file_extension": ".py",
   "mimetype": "text/x-python",
   "name": "python",
   "nbconvert_exporter": "python",
   "pygments_lexer": "ipython3",
   "version": "3.7.5"
  }
 },
 "nbformat": 4,
 "nbformat_minor": 2
}
